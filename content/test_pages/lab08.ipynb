{
 "cells": [
  {
   "cell_type": "markdown",
   "metadata": {
    "colab_type": "text",
    "id": "Hi7ab6vylnJL"
   },
   "source": [
    "# Module 8: Histogram and CDF\n",
    "\n",
    "A deep dive into Histogram and boxplot."
   ]
  },
  {
   "cell_type": "code",
   "execution_count": 0,
   "metadata": {
    "colab": {},
    "colab_type": "code",
    "id": "CV1myIselnJU"
   },
   "outputs": [],
   "source": [
    "import matplotlib.pyplot as plt\n",
    "import numpy as np\n",
    "import seaborn as sns\n",
    "import altair as alt\n",
    "import pandas as pd\n",
    "%matplotlib inline "
   ]
  },
  {
   "cell_type": "code",
   "execution_count": 39,
   "metadata": {
    "colab": {
     "base_uri": "https://localhost:8080/",
     "height": 35
    },
    "colab_type": "code",
    "id": "RfUuHjUTlnJt",
    "jupyter": {
     "outputs_hidden": false
    },
    "outputId": "6bfa6954-ce4d-4166-993f-b575526f901a"
   },
   "outputs": [
    {
     "data": {
      "text/plain": [
       "'3.0.3'"
      ]
     },
     "execution_count": 39,
     "metadata": {
      "tags": []
     },
     "output_type": "execute_result"
    }
   ],
   "source": [
    "import matplotlib\n",
    "matplotlib.__version__"
   ]
  },
  {
   "cell_type": "markdown",
   "metadata": {
    "colab_type": "text",
    "id": "I7C5kdqYlnKC"
   },
   "source": [
    "## The tricky histogram with pre-counted data"
   ]
  },
  {
   "cell_type": "markdown",
   "metadata": {
    "colab_type": "text",
    "id": "4yDWqqcBlnKK"
   },
   "source": [
    "Let's revisit the table from the class\n",
    "\n",
    "| Hours | Frequency |\n",
    "|-------|-----------|\n",
    "| 0-1   | 4,300     |\n",
    "| 1-3   | 6,900     |\n",
    "| 3-5   | 4,900     |\n",
    "| 5-10  | 2,000     |\n",
    "| 10-24 | 2,100     |"
   ]
  },
  {
   "cell_type": "markdown",
   "metadata": {
    "colab_type": "text",
    "id": "MK8JkI2GlnKM"
   },
   "source": [
    "You can draw a histogram by just providing bins and counts instead of a list of numbers. So, let's try that. "
   ]
  },
  {
   "cell_type": "code",
   "execution_count": 0,
   "metadata": {
    "colab": {},
    "colab_type": "code",
    "id": "GLrdUefqlnKQ"
   },
   "outputs": [],
   "source": [
    "bins = [0, 1, 3, 5, 10, 24]\n",
    "data = {0.5: 4300, 2: 6900, 4: 4900, 7: 2000, 15: 2100} "
   ]
  },
  {
   "cell_type": "code",
   "execution_count": 41,
   "metadata": {
    "colab": {
     "base_uri": "https://localhost:8080/",
     "height": 35
    },
    "colab_type": "code",
    "id": "MgVnJfVdlnKY",
    "jupyter": {
     "outputs_hidden": false
    },
    "outputId": "ea97531f-fce7-4a53-a441-90f0b5038ab9"
   },
   "outputs": [
    {
     "data": {
      "text/plain": [
       "dict_keys([0.5, 2, 4, 7, 15])"
      ]
     },
     "execution_count": 41,
     "metadata": {
      "tags": []
     },
     "output_type": "execute_result"
    }
   ],
   "source": [
    "data.keys()"
   ]
  },
  {
   "cell_type": "markdown",
   "metadata": {
    "colab_type": "text",
    "id": "m6hqMuOQlnKh"
   },
   "source": [
    "**Q: Draw histogram using this data. Don't normalize it for now.** Useful query: [Google search: matplotlib histogram pre-counted](https://www.google.com/search?client=safari&rls=en&q=matplotlib+histogram+already+counted&ie=UTF-8&oe=UTF-8#q=matplotlib+histogram+pre-counted)"
   ]
  },
  {
   "cell_type": "code",
   "execution_count": 42,
   "metadata": {
    "colab": {
     "base_uri": "https://localhost:8080/",
     "height": 322
    },
    "colab_type": "code",
    "id": "ee2dKcOrlnKk",
    "jupyter": {
     "outputs_hidden": false
    },
    "outputId": "f6c87a09-b929-474f-fcef-b6e5c51628f8"
   },
   "outputs": [
    {
     "data": {
      "text/plain": [
       "(array([4300., 6900., 4900., 2000., 2100.]),\n",
       " array([ 0,  1,  3,  5, 10, 24]),\n",
       " <a list of 5 Patch objects>)"
      ]
     },
     "execution_count": 42,
     "metadata": {
      "tags": []
     },
     "output_type": "execute_result"
    },
    {
     "data": {
      "image/png": "[encoded data removed]",
      "text/plain": [
       "<Figure size 432x288 with 1 Axes>"
      ]
     },
     "metadata": {
      "tags": []
     },
     "output_type": "display_data"
    }
   ],
   "source": [
    "# TODO: draw a histogram with weighted data. \n",
    "plt.hist(list(data.keys()),weights=list(data.values()),bins=bins)"
   ]
  },
  {
   "cell_type": "markdown",
   "metadata": {
    "colab_type": "text",
    "id": "Rm8fjd17lnKx"
   },
   "source": [
    "As you can see, the **default histogram does not normalize with binwidth and simply shows the counts**! This can be very misleading if you are working with variable bin width (e.g. logarithmic bins). So please be mindful about histograms when you work with variable bins. \n",
    "\n",
    "**Q: You can fix this by using the `density` option.**"
   ]
  },
  {
   "cell_type": "code",
   "execution_count": 43,
   "metadata": {
    "colab": {
     "base_uri": "https://localhost:8080/",
     "height": 322
    },
    "colab_type": "code",
    "id": "MHAmsiJSlnK0",
    "jupyter": {
     "outputs_hidden": false
    },
    "outputId": "b802a9f3-043b-4688-d09e-4e3c416bf4cb"
   },
   "outputs": [
    {
     "data": {
      "text/plain": [
       "(array([0.21287129, 0.17079208, 0.12128713, 0.01980198, 0.00742574]),\n",
       " array([ 0,  1,  3,  5, 10, 24]),\n",
       " <a list of 5 Patch objects>)"
      ]
     },
     "execution_count": 43,
     "metadata": {
      "tags": []
     },
     "output_type": "execute_result"
    },
    {
     "data": {
      "image/png": "[encoded data removed]",
      "text/plain": [
       "<Figure size 432x288 with 1 Axes>"
      ]
     },
     "metadata": {
      "tags": []
     },
     "output_type": "display_data"
    }
   ],
   "source": [
    "# TODO: fix it with density option. \n",
    "plt.hist(list(data.keys()),weights=list(data.values()),bins=bins,density=True)"
   ]
  },
  {
   "cell_type": "markdown",
   "metadata": {
    "colab_type": "text",
    "id": "yr5RRHQGlnLA"
   },
   "source": [
    "## Let's use an actual dataset"
   ]
  },
  {
   "cell_type": "code",
   "execution_count": 0,
   "metadata": {
    "colab": {},
    "colab_type": "code",
    "id": "GmuVvJXqlnLB"
   },
   "outputs": [],
   "source": [
    "import vega_datasets"
   ]
  },
  {
   "cell_type": "code",
   "execution_count": 45,
   "metadata": {
    "colab": {
     "base_uri": "https://localhost:8080/",
     "height": 452
    },
    "colab_type": "code",
    "id": "5u6u2mYglnLK",
    "jupyter": {
     "outputs_hidden": false
    },
    "outputId": "40966462-8420-4e0a-d11a-ba61a09c3125"
   },
   "outputs": [
    {
     "data": {
      "text/html": [
       "<div>\n",
       "<style scoped>\n",
       "    .dataframe tbody tr th:only-of-type {\n",
       "        vertical-align: middle;\n",
       "    }\n",
       "\n",
       "    .dataframe tbody tr th {\n",
       "        vertical-align: top;\n",
       "    }\n",
       "\n",
       "    .dataframe thead th {\n",
       "        text-align: right;\n",
       "    }\n",
       "</style>\n",
       "<table border=\"1\" class=\"dataframe\">\n",
       "  <thead>\n",
       "    <tr style=\"text-align: right;\">\n",
       "      <th></th>\n",
       "      <th>Creative_Type</th>\n",
       "      <th>Director</th>\n",
       "      <th>Distributor</th>\n",
       "      <th>IMDB_Rating</th>\n",
       "      <th>IMDB_Votes</th>\n",
       "      <th>MPAA_Rating</th>\n",
       "      <th>Major_Genre</th>\n",
       "      <th>Production_Budget</th>\n",
       "      <th>Release_Date</th>\n",
       "      <th>Rotten_Tomatoes_Rating</th>\n",
       "      <th>Running_Time_min</th>\n",
       "      <th>Source</th>\n",
       "      <th>Title</th>\n",
       "      <th>US_DVD_Sales</th>\n",
       "      <th>US_Gross</th>\n",
       "      <th>Worldwide_Gross</th>\n",
       "    </tr>\n",
       "  </thead>\n",
       "  <tbody>\n",
       "    <tr>\n",
       "      <th>0</th>\n",
       "      <td>None</td>\n",
       "      <td>None</td>\n",
       "      <td>Gramercy</td>\n",
       "      <td>6.1</td>\n",
       "      <td>1071.0</td>\n",
       "      <td>R</td>\n",
       "      <td>None</td>\n",
       "      <td>8000000.0</td>\n",
       "      <td>Jun 12 1998</td>\n",
       "      <td>NaN</td>\n",
       "      <td>NaN</td>\n",
       "      <td>None</td>\n",
       "      <td>The Land Girls</td>\n",
       "      <td>NaN</td>\n",
       "      <td>146083.0</td>\n",
       "      <td>146083.0</td>\n",
       "    </tr>\n",
       "    <tr>\n",
       "      <th>1</th>\n",
       "      <td>None</td>\n",
       "      <td>None</td>\n",
       "      <td>Strand</td>\n",
       "      <td>6.9</td>\n",
       "      <td>207.0</td>\n",
       "      <td>R</td>\n",
       "      <td>Drama</td>\n",
       "      <td>300000.0</td>\n",
       "      <td>Aug 07 1998</td>\n",
       "      <td>NaN</td>\n",
       "      <td>NaN</td>\n",
       "      <td>None</td>\n",
       "      <td>First Love, Last Rites</td>\n",
       "      <td>NaN</td>\n",
       "      <td>10876.0</td>\n",
       "      <td>10876.0</td>\n",
       "    </tr>\n",
       "    <tr>\n",
       "      <th>2</th>\n",
       "      <td>None</td>\n",
       "      <td>None</td>\n",
       "      <td>Lionsgate</td>\n",
       "      <td>6.8</td>\n",
       "      <td>865.0</td>\n",
       "      <td>None</td>\n",
       "      <td>Comedy</td>\n",
       "      <td>250000.0</td>\n",
       "      <td>Aug 28 1998</td>\n",
       "      <td>NaN</td>\n",
       "      <td>NaN</td>\n",
       "      <td>None</td>\n",
       "      <td>I Married a Strange Person</td>\n",
       "      <td>NaN</td>\n",
       "      <td>203134.0</td>\n",
       "      <td>203134.0</td>\n",
       "    </tr>\n",
       "    <tr>\n",
       "      <th>3</th>\n",
       "      <td>None</td>\n",
       "      <td>None</td>\n",
       "      <td>Fine Line</td>\n",
       "      <td>NaN</td>\n",
       "      <td>NaN</td>\n",
       "      <td>None</td>\n",
       "      <td>Comedy</td>\n",
       "      <td>300000.0</td>\n",
       "      <td>Sep 11 1998</td>\n",
       "      <td>13.0</td>\n",
       "      <td>NaN</td>\n",
       "      <td>None</td>\n",
       "      <td>Let's Talk About Sex</td>\n",
       "      <td>NaN</td>\n",
       "      <td>373615.0</td>\n",
       "      <td>373615.0</td>\n",
       "    </tr>\n",
       "    <tr>\n",
       "      <th>4</th>\n",
       "      <td>Contemporary Fiction</td>\n",
       "      <td>None</td>\n",
       "      <td>Trimark</td>\n",
       "      <td>3.4</td>\n",
       "      <td>165.0</td>\n",
       "      <td>R</td>\n",
       "      <td>Drama</td>\n",
       "      <td>1000000.0</td>\n",
       "      <td>Oct 09 1998</td>\n",
       "      <td>62.0</td>\n",
       "      <td>NaN</td>\n",
       "      <td>Original Screenplay</td>\n",
       "      <td>Slam</td>\n",
       "      <td>NaN</td>\n",
       "      <td>1009819.0</td>\n",
       "      <td>1087521.0</td>\n",
       "    </tr>\n",
       "  </tbody>\n",
       "</table>\n",
       "</div>"
      ],
      "text/plain": [
       "          Creative_Type Director  ...   US_Gross  Worldwide_Gross\n",
       "0                  None     None  ...   146083.0         146083.0\n",
       "1                  None     None  ...    10876.0          10876.0\n",
       "2                  None     None  ...   203134.0         203134.0\n",
       "3                  None     None  ...   373615.0         373615.0\n",
       "4  Contemporary Fiction     None  ...  1009819.0        1087521.0\n",
       "\n",
       "[5 rows x 16 columns]"
      ]
     },
     "execution_count": 45,
     "metadata": {
      "tags": []
     },
     "output_type": "execute_result"
    }
   ],
   "source": [
    "movies = vega_datasets.data.movies()\n",
    "movies.head()"
   ]
  },
  {
   "cell_type": "markdown",
   "metadata": {
    "colab_type": "text",
    "id": "lXjjloV8lnLQ"
   },
   "source": [
    "Let's plot the histogram of IMDB ratings. "
   ]
  },
  {
   "cell_type": "code",
   "execution_count": 46,
   "metadata": {
    "colab": {
     "base_uri": "https://localhost:8080/",
     "height": 413
    },
    "colab_type": "code",
    "id": "VknZlamWlnLU",
    "jupyter": {
     "outputs_hidden": false
    },
    "outputId": "cd66cae6-7ae4-4162-e386-f9266be4ee96"
   },
   "outputs": [
    {
     "name": "stderr",
     "output_type": "stream",
     "text": [
      "/usr/local/lib/python3.6/dist-packages/numpy/lib/histograms.py:824: RuntimeWarning: invalid value encountered in greater_equal\n",
      "  keep = (tmp_a >= first_edge)\n",
      "/usr/local/lib/python3.6/dist-packages/numpy/lib/histograms.py:825: RuntimeWarning: invalid value encountered in less_equal\n",
      "  keep &= (tmp_a <= last_edge)\n"
     ]
    },
    {
     "data": {
      "text/plain": [
       "(array([  9.,  39.,  76., 133., 293., 599., 784., 684., 323.,  48.]),\n",
       " array([1.4 , 2.18, 2.96, 3.74, 4.52, 5.3 , 6.08, 6.86, 7.64, 8.42, 9.2 ]),\n",
       " <a list of 10 Patch objects>)"
      ]
     },
     "execution_count": 46,
     "metadata": {
      "tags": []
     },
     "output_type": "execute_result"
    },
    {
     "data": {
      "image/png": "[encoded data removed]",
      "text/plain": [
       "<Figure size 432x288 with 1 Axes>"
      ]
     },
     "metadata": {
      "tags": []
     },
     "output_type": "display_data"
    }
   ],
   "source": [
    "plt.hist(movies.IMDB_Rating)"
   ]
  },
  {
   "cell_type": "markdown",
   "metadata": {
    "colab_type": "text",
    "id": "yK0ELvqalnLb"
   },
   "source": [
    "Did you get an error or a warning? What's going on? \n",
    "\n",
    "The problem is that the column contains `NaN` (Not a Number) values, which represent missing data points. The following command check whether each value is a `NaN` and returns the result. "
   ]
  },
  {
   "cell_type": "code",
   "execution_count": 47,
   "metadata": {
    "colab": {
     "base_uri": "https://localhost:8080/",
     "height": 1000
    },
    "colab_type": "code",
    "id": "ESgeXH0dlnLc",
    "jupyter": {
     "outputs_hidden": false
    },
    "outputId": "37553442-6f5f-4871-b79c-c1857d0b7d97"
   },
   "outputs": [
    {
     "data": {
      "text/plain": [
       "0       False\n",
       "1       False\n",
       "2       False\n",
       "3        True\n",
       "4       False\n",
       "5        True\n",
       "6       False\n",
       "7       False\n",
       "8       False\n",
       "9       False\n",
       "10      False\n",
       "11      False\n",
       "12      False\n",
       "13       True\n",
       "14      False\n",
       "15       True\n",
       "16      False\n",
       "17      False\n",
       "18      False\n",
       "19      False\n",
       "20      False\n",
       "21      False\n",
       "22      False\n",
       "23      False\n",
       "24      False\n",
       "25       True\n",
       "26       True\n",
       "27      False\n",
       "28      False\n",
       "29       True\n",
       "        ...  \n",
       "3171    False\n",
       "3172    False\n",
       "3173    False\n",
       "3174    False\n",
       "3175    False\n",
       "3176    False\n",
       "3177    False\n",
       "3178    False\n",
       "3179     True\n",
       "3180    False\n",
       "3181    False\n",
       "3182     True\n",
       "3183    False\n",
       "3184    False\n",
       "3185    False\n",
       "3186    False\n",
       "3187    False\n",
       "3188     True\n",
       "3189     True\n",
       "3190    False\n",
       "3191    False\n",
       "3192     True\n",
       "3193    False\n",
       "3194    False\n",
       "3195    False\n",
       "3196    False\n",
       "3197     True\n",
       "3198    False\n",
       "3199    False\n",
       "3200    False\n",
       "Name: IMDB_Rating, Length: 3201, dtype: bool"
      ]
     },
     "execution_count": 47,
     "metadata": {
      "tags": []
     },
     "output_type": "execute_result"
    }
   ],
   "source": [
    "movies.IMDB_Rating.isna()"
   ]
  },
  {
   "cell_type": "markdown",
   "metadata": {
    "colab_type": "text",
    "id": "-e3k4TM_lnLj"
   },
   "source": [
    "As you can see there are a bunch of missing rows. You can count them. "
   ]
  },
  {
   "cell_type": "code",
   "execution_count": 48,
   "metadata": {
    "colab": {
     "base_uri": "https://localhost:8080/",
     "height": 35
    },
    "colab_type": "code",
    "id": "SjlzZCwVlnLm",
    "jupyter": {
     "outputs_hidden": false
    },
    "outputId": "72215bef-5b27-4c3f-fd82-864d0d3fd7f9"
   },
   "outputs": [
    {
     "data": {
      "text/plain": [
       "213"
      ]
     },
     "execution_count": 48,
     "metadata": {
      "tags": []
     },
     "output_type": "execute_result"
    }
   ],
   "source": [
    "sum(movies.IMDB_Rating.isna())"
   ]
  },
  {
   "cell_type": "markdown",
   "metadata": {
    "colab_type": "text",
    "id": "XqkpE5O9lnLt"
   },
   "source": [
    "or drop them. "
   ]
  },
  {
   "cell_type": "code",
   "execution_count": 49,
   "metadata": {
    "colab": {
     "base_uri": "https://localhost:8080/",
     "height": 35
    },
    "colab_type": "code",
    "id": "Ot_ebt7mlnLv",
    "jupyter": {
     "outputs_hidden": false
    },
    "outputId": "edf75d4e-f724-4dac-9b65-0561bfee58e9"
   },
   "outputs": [
    {
     "data": {
      "text/plain": [
       "2988"
      ]
     },
     "execution_count": 49,
     "metadata": {
      "tags": []
     },
     "output_type": "execute_result"
    }
   ],
   "source": [
    "IMDB_ratings_nan_dropped = movies.IMDB_Rating.dropna()\n",
    "len(IMDB_ratings_nan_dropped)"
   ]
  },
  {
   "cell_type": "code",
   "execution_count": 50,
   "metadata": {
    "colab": {
     "base_uri": "https://localhost:8080/",
     "height": 35
    },
    "colab_type": "code",
    "id": "Fpr4v6oXlnL2",
    "jupyter": {
     "outputs_hidden": false
    },
    "outputId": "fbc052bd-d064-48c8-d247-972644ba07b8"
   },
   "outputs": [
    {
     "data": {
      "text/plain": [
       "3201"
      ]
     },
     "execution_count": 50,
     "metadata": {
      "tags": []
     },
     "output_type": "execute_result"
    }
   ],
   "source": [
    "213 + 2988"
   ]
  },
  {
   "cell_type": "markdown",
   "metadata": {
    "colab_type": "text",
    "id": "nopM2UH_lnL-"
   },
   "source": [
    "The `dropna` can be applied to the dataframe too. \n",
    "\n",
    "**Q: drop rows from `movies` dataframe where either `IMDB_Rating` or `IMDB_Votes` is `NaN`.**"
   ]
  },
  {
   "cell_type": "code",
   "execution_count": 0,
   "metadata": {
    "colab": {},
    "colab_type": "code",
    "id": "YGFoQ2xFlnMA"
   },
   "outputs": [],
   "source": [
    "# TODO\n",
    "movies.dropna(subset=['IMDB_Rating','IMDB_Votes'],inplace=True)"
   ]
  },
  {
   "cell_type": "code",
   "execution_count": 52,
   "metadata": {
    "colab": {
     "base_uri": "https://localhost:8080/",
     "height": 35
    },
    "colab_type": "code",
    "id": "lngdU6cKlnMF",
    "jupyter": {
     "outputs_hidden": false
    },
    "outputId": "efde8456-be0c-4531-cf50-62d83a819ee0"
   },
   "outputs": [
    {
     "name": "stdout",
     "output_type": "stream",
     "text": [
      "0 0\n"
     ]
    }
   ],
   "source": [
    "# Both should be zero. \n",
    "print(sum(movies.IMDB_Rating.isna()), sum(movies.IMDB_Votes.isna()))"
   ]
  },
  {
   "cell_type": "markdown",
   "metadata": {
    "colab_type": "text",
    "id": "hxLNSiy_lnMO"
   },
   "source": [
    "How does `matplotlib` decides the bins? Actually `matplotlib`'s `hist` function uses `numpy`'s `histogram` function under the hood. "
   ]
  },
  {
   "cell_type": "markdown",
   "metadata": {
    "colab_type": "text",
    "id": "aSAHzdPTlnMS"
   },
   "source": [
    "**Q: Plot the histogram of movie ratings (`IMDB_Rating`) using the `plt.hist()` function.**"
   ]
  },
  {
   "cell_type": "code",
   "execution_count": 53,
   "metadata": {
    "colab": {
     "base_uri": "https://localhost:8080/",
     "height": 322
    },
    "colab_type": "code",
    "id": "4YlTo98LlnMU",
    "jupyter": {
     "outputs_hidden": false
    },
    "outputId": "953546df-6c39-4cd8-b85b-117bdf72cb53"
   },
   "outputs": [
    {
     "data": {
      "text/plain": [
       "(array([  9.,  39.,  76., 133., 293., 599., 784., 684., 323.,  48.]),\n",
       " array([1.4 , 2.18, 2.96, 3.74, 4.52, 5.3 , 6.08, 6.86, 7.64, 8.42, 9.2 ]),\n",
       " <a list of 10 Patch objects>)"
      ]
     },
     "execution_count": 53,
     "metadata": {
      "tags": []
     },
     "output_type": "execute_result"
    },
    {
     "data": {
      "image/png": "[encoded data removed]",
      "text/plain": [
       "<Figure size 432x288 with 1 Axes>"
      ]
     },
     "metadata": {
      "tags": []
     },
     "output_type": "display_data"
    }
   ],
   "source": [
    "# TODO\n",
    "plt.hist(movies.IMDB_Rating)"
   ]
  },
  {
   "cell_type": "markdown",
   "metadata": {
    "colab_type": "text",
    "id": "3uu9Wn0GlnMa"
   },
   "source": [
    "Have you noticed that this function returns three objects? Take a look at the documentation [here](http://matplotlib.org/api/pyplot_api.html#matplotlib.pyplot.hist) to figure out what they are.\n",
    "\n",
    "To get the returned three objects:"
   ]
  },
  {
   "cell_type": "code",
   "execution_count": 54,
   "metadata": {
    "colab": {
     "base_uri": "https://localhost:8080/",
     "height": 305
    },
    "colab_type": "code",
    "id": "Rr_4Zu0hlnMd",
    "jupyter": {
     "outputs_hidden": false
    },
    "outputId": "e46be8f1-0bc3-4469-8ed6-831d2a52a4dc"
   },
   "outputs": [
    {
     "name": "stdout",
     "output_type": "stream",
     "text": [
      "[  9.  39.  76. 133. 293. 599. 784. 684. 323.  48.]\n",
      "[1.4  2.18 2.96 3.74 4.52 5.3  6.08 6.86 7.64 8.42 9.2 ]\n"
     ]
    },
    {
     "data": {
      "image/png": "[encoded data removed]",
      "text/plain": [
       "<Figure size 432x288 with 1 Axes>"
      ]
     },
     "metadata": {
      "tags": []
     },
     "output_type": "display_data"
    }
   ],
   "source": [
    "n_raw, bins_raw, patches = plt.hist(movies.IMDB_Rating)\n",
    "print(n_raw)\n",
    "print(bins_raw)"
   ]
  },
  {
   "cell_type": "markdown",
   "metadata": {
    "colab_type": "text",
    "id": "FtohnBValnMo"
   },
   "source": [
    "Here, `n_raw` contains the values of histograms, i.e., the number of movies in each of the 10 bins. Thus, the sum of the elements in `n_raw` should be equal to the total number of movies. \n",
    "\n",
    "**Q: Test whether the sum of values in `n_raw` is equal to the number of movies in the `movies` dataset**"
   ]
  },
  {
   "cell_type": "code",
   "execution_count": 55,
   "metadata": {
    "colab": {
     "base_uri": "https://localhost:8080/",
     "height": 35
    },
    "colab_type": "code",
    "id": "vf3nq3bhlnMs",
    "jupyter": {
     "outputs_hidden": false
    },
    "outputId": "bb770eb8-0984-4ca9-88de-30ba87c1a915"
   },
   "outputs": [
    {
     "name": "stdout",
     "output_type": "stream",
     "text": [
      "2988.0 2988\n"
     ]
    }
   ],
   "source": [
    "# TODO: test whether the sum of the numbers in n_raw is equal to the number of movies. \n",
    "print(sum(n_raw),len(movies))"
   ]
  },
  {
   "cell_type": "markdown",
   "metadata": {
    "colab_type": "text",
    "id": "rV-nhzBClnM6"
   },
   "source": [
    "The second returned object (`bins_raw`) is a list containing the edges of the 10 bins: the first bin is \\[1.4, 2.18\\], the second \\[2.18, 2.96\\], and so on. What's the width of the bins?"
   ]
  },
  {
   "cell_type": "code",
   "execution_count": 56,
   "metadata": {
    "colab": {
     "base_uri": "https://localhost:8080/",
     "height": 35
    },
    "colab_type": "code",
    "id": "uGgTsniwlnM_",
    "jupyter": {
     "outputs_hidden": false
    },
    "outputId": "389a19d9-9ed4-47a5-b2b8-cd9b1f22d332"
   },
   "outputs": [
    {
     "data": {
      "text/plain": [
       "array([0.78, 0.78, 0.78, 0.78, 0.78, 0.78, 0.78, 0.78, 0.78, 0.78])"
      ]
     },
     "execution_count": 56,
     "metadata": {
      "tags": []
     },
     "output_type": "execute_result"
    }
   ],
   "source": [
    "np.diff(bins_raw)"
   ]
  },
  {
   "cell_type": "markdown",
   "metadata": {
    "colab_type": "text",
    "id": "g5TWGapolnNI"
   },
   "source": [
    "The width is same as the maximum value minus minimum value, divided by 10. "
   ]
  },
  {
   "cell_type": "code",
   "execution_count": 57,
   "metadata": {
    "colab": {
     "base_uri": "https://localhost:8080/",
     "height": 53
    },
    "colab_type": "code",
    "id": "tNwJ0XJxlnNM",
    "jupyter": {
     "outputs_hidden": false
    },
    "outputId": "7ecbaae3-4bb0-47f6-d645-a362b093c3dc"
   },
   "outputs": [
    {
     "name": "stdout",
     "output_type": "stream",
     "text": [
      "1.4 9.2\n",
      "0.7799999999999999\n"
     ]
    }
   ],
   "source": [
    "min_rating = min(movies.IMDB_Rating)\n",
    "max_rating = max(movies.IMDB_Rating)\n",
    "print(min_rating, max_rating)\n",
    "print( (max_rating-min_rating) / 10 )"
   ]
  },
  {
   "cell_type": "markdown",
   "metadata": {
    "colab_type": "text",
    "id": "q54fjxzhlnNU"
   },
   "source": [
    "Now, let's plot a normalized (density) histogram. "
   ]
  },
  {
   "cell_type": "code",
   "execution_count": 58,
   "metadata": {
    "colab": {
     "base_uri": "https://localhost:8080/",
     "height": 322
    },
    "colab_type": "code",
    "id": "_CUkEn21lnNV",
    "jupyter": {
     "outputs_hidden": false
    },
    "outputId": "6a3afc41-9046-43ef-9fd3-1fba12b587f4"
   },
   "outputs": [
    {
     "name": "stdout",
     "output_type": "stream",
     "text": [
      "[0.0038616  0.0167336  0.03260907 0.05706587 0.12571654 0.25701095\n",
      " 0.33638829 0.29348162 0.13858854 0.0205952 ]\n",
      "[1.4  2.18 2.96 3.74 4.52 5.3  6.08 6.86 7.64 8.42 9.2 ]\n"
     ]
    },
    {
     "data": {
      "image/png": "[encoded data removed]",
      "text/plain": [
       "<Figure size 432x288 with 1 Axes>"
      ]
     },
     "metadata": {
      "tags": []
     },
     "output_type": "display_data"
    }
   ],
   "source": [
    "n, bins, patches = plt.hist(movies.IMDB_Rating, density=True)\n",
    "print(n)\n",
    "print(bins)"
   ]
  },
  {
   "cell_type": "markdown",
   "metadata": {
    "colab_type": "text",
    "id": "c_ULxlhslnNd"
   },
   "source": [
    "The ten bins do not change. But now `n` represents the density of the data inside each bin. In other words, the sum of the area of each bar will equal to 1. \n",
    "\n",
    "**Q: Can you verify this?**\n",
    "\n",
    "Hint: the area of each bar is calculated as height * width. You may get something like 0.99999999999999978 instead of 1."
   ]
  },
  {
   "cell_type": "code",
   "execution_count": 59,
   "metadata": {
    "colab": {
     "base_uri": "https://localhost:8080/",
     "height": 35
    },
    "colab_type": "code",
    "id": "Q8eFyeAZlnNf",
    "jupyter": {
     "outputs_hidden": false
    },
    "outputId": "296f22dd-2e1c-46b7-b147-7738b82fffbc"
   },
   "outputs": [
    {
     "data": {
      "text/plain": [
       "1.0"
      ]
     },
     "execution_count": 59,
     "metadata": {
      "tags": []
     },
     "output_type": "execute_result"
    }
   ],
   "source": [
    "# TODO\n",
    "sum(np.diff(bins)*n)"
   ]
  },
  {
   "cell_type": "markdown",
   "metadata": {
    "colab_type": "text",
    "id": "QZBNHOYRlnNk"
   },
   "source": [
    "Anyway, these data generated from the `hist` function is calculated from `numpy`'s `histogram` function. https://docs.scipy.org/doc/numpy/reference/generated/numpy.histogram.html \n",
    "\n",
    "Note that the result of `np.histogram()` is same as that of `plt.hist()`. "
   ]
  },
  {
   "cell_type": "code",
   "execution_count": 60,
   "metadata": {
    "colab": {
     "base_uri": "https://localhost:8080/",
     "height": 53
    },
    "colab_type": "code",
    "id": "LP0EN3NblnNn",
    "jupyter": {
     "outputs_hidden": false
    },
    "outputId": "d177013a-36c6-4f31-d792-24fb502bdd19"
   },
   "outputs": [
    {
     "data": {
      "text/plain": [
       "(array([  9,  39,  76, 133, 293, 599, 784, 684, 323,  48]),\n",
       " array([1.4 , 2.18, 2.96, 3.74, 4.52, 5.3 , 6.08, 6.86, 7.64, 8.42, 9.2 ]))"
      ]
     },
     "execution_count": 60,
     "metadata": {
      "tags": []
     },
     "output_type": "execute_result"
    }
   ],
   "source": [
    "np.histogram(movies.IMDB_Rating)"
   ]
  },
  {
   "cell_type": "code",
   "execution_count": 61,
   "metadata": {
    "colab": {
     "base_uri": "https://localhost:8080/",
     "height": 322
    },
    "colab_type": "code",
    "id": "m4KL4ru7lnNs",
    "jupyter": {
     "outputs_hidden": false
    },
    "outputId": "441586f5-edb5-4e1b-b046-930242d97c7b"
   },
   "outputs": [
    {
     "data": {
      "text/plain": [
       "(array([  9.,  39.,  76., 133., 293., 599., 784., 684., 323.,  48.]),\n",
       " array([1.4 , 2.18, 2.96, 3.74, 4.52, 5.3 , 6.08, 6.86, 7.64, 8.42, 9.2 ]),\n",
       " <a list of 10 Patch objects>)"
      ]
     },
     "execution_count": 61,
     "metadata": {
      "tags": []
     },
     "output_type": "execute_result"
    },
    {
     "data": {
      "image/png": "[encoded data removed]",
      "text/plain": [
       "<Figure size 432x288 with 1 Axes>"
      ]
     },
     "metadata": {
      "tags": []
     },
     "output_type": "display_data"
    }
   ],
   "source": [
    "plt.hist(movies.IMDB_Rating)"
   ]
  },
  {
   "cell_type": "markdown",
   "metadata": {
    "colab_type": "text",
    "id": "QWkKsEfMlnNx"
   },
   "source": [
    "If you look at the documentation, you can see that `numpy` uses simply 10 as the default number of bins. But you can set it manually or set it to be `auto`, which is the \"Maximum of the `sturges` and `fd` estimators.\". Let's try this `auto` option. "
   ]
  },
  {
   "cell_type": "code",
   "execution_count": 62,
   "metadata": {
    "colab": {
     "base_uri": "https://localhost:8080/",
     "height": 269
    },
    "colab_type": "code",
    "id": "XGhw9kURlnNy",
    "jupyter": {
     "outputs_hidden": false
    },
    "outputId": "edc2860a-70b5-4058-af0b-4a6c8a4bcc94"
   },
   "outputs": [
    {
     "data": {
      "image/png": "[encoded data removed]",
      "text/plain": [
       "<Figure size 432x288 with 1 Axes>"
      ]
     },
     "metadata": {
      "tags": []
     },
     "output_type": "display_data"
    }
   ],
   "source": [
    "_ = plt.hist(movies.IMDB_Rating, bins='auto')"
   ]
  },
  {
   "cell_type": "markdown",
   "metadata": {
    "colab_type": "text",
    "id": "N_3YblHVlnN3"
   },
   "source": [
    "## Consequences of the binning parameter\n",
    "\n",
    "Let's explore the effect of bin size using small multiples. In `matplotlib`, you can use [subplot](https://www.google.com/search?client=safari&rls=en&q=matplotlib+subplot&ie=UTF-8&oe=UTF-8) to put multiple plots into a single figure. \n",
    "\n",
    "For instance, you can do something like:"
   ]
  },
  {
   "cell_type": "code",
   "execution_count": 63,
   "metadata": {
    "colab": {
     "base_uri": "https://localhost:8080/",
     "height": 341
    },
    "colab_type": "code",
    "id": "2zHAbQZOlnN5",
    "jupyter": {
     "outputs_hidden": false
    },
    "outputId": "cda9d894-3f43-466d-e512-2d4d7950272e"
   },
   "outputs": [
    {
     "data": {
      "text/plain": [
       "<matplotlib.axes._subplots.AxesSubplot at 0x7f42943e1400>"
      ]
     },
     "execution_count": 63,
     "metadata": {
      "tags": []
     },
     "output_type": "execute_result"
    },
    {
     "data": {
      "image/png": "[encoded data removed]",
      "text/plain": [
       "<Figure size 720x360 with 2 Axes>"
      ]
     },
     "metadata": {
      "tags": []
     },
     "output_type": "display_data"
    }
   ],
   "source": [
    "plt.figure(figsize=(10,5))\n",
    "plt.subplot(1,2,1)\n",
    "movies.IMDB_Rating.hist(bins=3)\n",
    "plt.subplot(1,2,2)\n",
    "movies.IMDB_Rating.hist(bins=20)"
   ]
  },
  {
   "cell_type": "markdown",
   "metadata": {
    "colab_type": "text",
    "id": "yWmycoeblnN8"
   },
   "source": [
    "What does the argument in `plt.subplot(1,2,1)` mean? If you're not sure, check out: http://stackoverflow.com/questions/3584805/in-matplotlib-what-does-the-argument-mean-in-fig-add-subplot111\n",
    "\n",
    "**Q: create 8 subplots (2 rows and 4 columns) with the following `binsizes`.**"
   ]
  },
  {
   "cell_type": "code",
   "execution_count": 64,
   "metadata": {
    "colab": {
     "base_uri": "https://localhost:8080/",
     "height": 627
    },
    "colab_type": "code",
    "id": "QHadRhKMlnN-",
    "jupyter": {
     "outputs_hidden": false
    },
    "outputId": "28c018cc-94af-4df7-c523-51b055029859"
   },
   "outputs": [
    {
     "data": {
      "image/png": "[encoded data removed]",
      "text/plain": [
       "<Figure size 1296x720 with 8 Axes>"
      ]
     },
     "metadata": {
      "tags": []
     },
     "output_type": "display_data"
    }
   ],
   "source": [
    "fig=plt.figure(figsize=(18,10))\n",
    "fig.add_subplot(2,4,1)\n",
    "ax1=movies.IMDB_Rating.hist(bins=2)\n",
    "fig.add_subplot(2,4,2)\n",
    "ax2=movies.IMDB_Rating.hist(bins=3)\n",
    "fig.add_subplot(2,4,3)\n",
    "ax3=movies.IMDB_Rating.hist(bins=5)\n",
    "fig.add_subplot(2,4,4)\n",
    "ax4=movies.IMDB_Rating.hist(bins=10)\n",
    "fig.add_subplot(2,4,5)\n",
    "ax5=movies.IMDB_Rating.hist(bins=30)\n",
    "fig.add_subplot(2,4,6)\n",
    "ax6=movies.IMDB_Rating.hist(bins=40)\n",
    "fig.add_subplot(2,4,7)\n",
    "ax7=movies.IMDB_Rating.hist(bins=60)\n",
    "fig.add_subplot(2,4,8)\n",
    "ax8=movies.IMDB_Rating.hist(bins=100)\n",
    "ax1.title.set_text('bins=2')\n",
    "ax2.title.set_text('bins=3')\n",
    "ax3.title.set_text('bins=5')\n",
    "ax4.title.set_text('bins=10')\n",
    "ax5.title.set_text('bins=30')\n",
    "ax6.title.set_text('bins=40')\n",
    "ax7.title.set_text('bins=60')\n",
    "ax8.title.set_text('bins=100')\n"
   ]
  },
  {
   "cell_type": "markdown",
   "metadata": {
    "colab_type": "text",
    "id": "cCa1MbKglnOD"
   },
   "source": [
    "Do you see the issues with having too few bins or too many bins? In particular, do you notice weird patterns that emerge from `bins=30`? \n",
    "\n",
    "**Q: Can you guess why do you see such patterns? What are the peaks and what are the empty bars? What do they tell you about choosing the binsize in histograms?**"
   ]
  },
  {
   "cell_type": "code",
   "execution_count": 65,
   "metadata": {
    "colab": {
     "base_uri": "https://localhost:8080/",
     "height": 287
    },
    "colab_type": "code",
    "id": "ZYJ2ybmYlnON",
    "jupyter": {
     "outputs_hidden": false
    },
    "outputId": "d7014eff-515e-4856-9146-b2a8a05edda7"
   },
   "outputs": [
    {
     "data": {
      "text/plain": [
       "<matplotlib.axes._subplots.AxesSubplot at 0x7f42941fcb38>"
      ]
     },
     "execution_count": 65,
     "metadata": {
      "tags": []
     },
     "output_type": "execute_result"
    },
    {
     "data": {
      "image/png": "[encoded data removed]",
      "text/plain": [
       "<Figure size 432x288 with 1 Axes>"
      ]
     },
     "metadata": {
      "tags": []
     },
     "output_type": "display_data"
    }
   ],
   "source": [
    "# TODO: Provide your answer and evidence here\n",
    "movies.IMDB_Rating.hist(bins=60,grid=False)"
   ]
  },
  {
   "cell_type": "markdown",
   "metadata": {
    "colab_type": "text",
    "id": "2Ai4qJOilnOW"
   },
   "source": [
    "**Explanation:** I think the Prof.YY meant the situation when bins=60, rather than bin=30. Both the peaks and the empty bars represent the quantity of those corresponding bins. That are peak because the quantity is large and they are empty because the quantity is small. What they tell about choosing the bin number is that if bin number is chosen wrongly, we won't be able to see the actual distribution. "
   ]
  },
  {
   "cell_type": "markdown",
   "metadata": {
    "colab_type": "text",
    "id": "qpQaSd-8lnOX"
   },
   "source": [
    "## Formulae for choosing the number of bins. \n",
    "\n",
    "We can manually choose the number of bins based on those formulae. "
   ]
  },
  {
   "cell_type": "code",
   "execution_count": 66,
   "metadata": {
    "colab": {
     "base_uri": "https://localhost:8080/",
     "height": 299
    },
    "colab_type": "code",
    "id": "0bxdfxnMlnOZ",
    "outputId": "4712558e-14b0-45b1-8a36-9580e167d79e"
   },
   "outputs": [
    {
     "data": {
      "text/plain": [
       "<matplotlib.axes._subplots.AxesSubplot at 0x7f4294728470>"
      ]
     },
     "execution_count": 66,
     "metadata": {
      "tags": []
     },
     "output_type": "execute_result"
    },
    {
     "data": {
      "image/png": "[encoded data removed]",
      "text/plain": [
       "<Figure size 864x288 with 3 Axes>"
      ]
     },
     "metadata": {
      "tags": []
     },
     "output_type": "display_data"
    }
   ],
   "source": [
    "N = len(movies)\n",
    "\n",
    "plt.figure(figsize=(12,4))\n",
    "\n",
    "# Sqrt \n",
    "nbins = int(np.sqrt(N))\n",
    "\n",
    "plt.subplot(1,3,1)\n",
    "plt.title(\"SQRT, {} bins\".format(nbins))\n",
    "movies.IMDB_Rating.hist(bins=nbins)\n",
    "\n",
    "# Sturge's formula\n",
    "nbins = int(np.ceil(np.log2(N) + 1))\n",
    "\n",
    "plt.subplot(1,3,2)\n",
    "plt.title(\"Sturge, {} bins\".format(nbins))\n",
    "movies.IMDB_Rating.hist(bins=nbins)\n",
    "\n",
    "# Freedman-Diaconis\n",
    "iqr = np.percentile(movies.IMDB_Rating, 75) - np.percentile(movies.IMDB_Rating, 25)\n",
    "width = 2*iqr/np.power(N, 1/3)\n",
    "nbins = int((max(movies.IMDB_Rating) - min(movies.IMDB_Rating)) / width)\n",
    "\n",
    "plt.subplot(1,3,3)\n",
    "plt.title(\"F-D, {} bins\".format(nbins))\n",
    "movies.IMDB_Rating.hist(bins=nbins)\n",
    "\n"
   ]
  },
  {
   "cell_type": "markdown",
   "metadata": {
    "colab_type": "text",
    "id": "nOUTrcHJlnOh"
   },
   "source": [
    "But we can also use built-in formulae too. Let's try all of them. "
   ]
  },
  {
   "cell_type": "code",
   "execution_count": 67,
   "metadata": {
    "colab": {
     "base_uri": "https://localhost:8080/",
     "height": 307
    },
    "colab_type": "code",
    "id": "NKbLg6LWlnOj",
    "jupyter": {
     "outputs_hidden": false
    },
    "outputId": "bede57db-87e9-4706-f69b-fa556ddfcd7c"
   },
   "outputs": [
    {
     "data": {
      "text/plain": [
       "<matplotlib.axes._subplots.AxesSubplot at 0x7f42959bb1d0>"
      ]
     },
     "execution_count": 67,
     "metadata": {
      "tags": []
     },
     "output_type": "execute_result"
    },
    {
     "data": {
      "image/png": "[encoded data removed]",
      "text/plain": [
       "<Figure size 1440x288 with 6 Axes>"
      ]
     },
     "metadata": {
      "tags": []
     },
     "output_type": "display_data"
    }
   ],
   "source": [
    "plt.figure(figsize=(20,4))\n",
    "\n",
    "plt.subplot(161)\n",
    "movies.IMDB_Rating.hist(bins='fd')\n",
    "\n",
    "plt.subplot(162)\n",
    "movies.IMDB_Rating.hist(bins='doane')\n",
    "\n",
    "plt.subplot(163)\n",
    "movies.IMDB_Rating.hist(bins='scott')\n",
    "\n",
    "plt.subplot(164)\n",
    "movies.IMDB_Rating.hist(bins='rice')\n",
    "\n",
    "plt.subplot(165)\n",
    "movies.IMDB_Rating.hist(bins='sturges')\n",
    "\n",
    "plt.subplot(166)\n",
    "movies.IMDB_Rating.hist(bins='sqrt')"
   ]
  },
  {
   "cell_type": "markdown",
   "metadata": {
    "colab_type": "text",
    "id": "vwjmNG-hlnOn"
   },
   "source": [
    "Some are decent, but several of them tend to overestimate the good number of bins. As you have more data points, some of the formulae may overestimate the necessary number of bins. Particularly in our case, because of the precision issue, we shouldn't increase the number of bins too much."
   ]
  },
  {
   "cell_type": "markdown",
   "metadata": {
    "colab_type": "text",
    "id": "Q9_FP2SMlnOo"
   },
   "source": [
    "### Then, how should we choose the number of bins?"
   ]
  },
  {
   "cell_type": "markdown",
   "metadata": {
    "colab_type": "text",
    "id": "rgzEAIDllnOo"
   },
   "source": [
    "So what's the conclusion? use Scott's rule or Sturges' formula? \n",
    "\n",
    "No, I think the take-away is that you **should understand how the inappropriate number of bins can mislead you** and you should **try multiple number of bins** to obtain the most accurate picture of the data. Although the 'default' may work in most cases, don't blindly trust it! Don't judge the distribution of a dataset based on a single histogram. Try multiple parameters to get the full picture!"
   ]
  },
  {
   "cell_type": "markdown",
   "metadata": {
    "colab_type": "text",
    "id": "82utl8CClnOp"
   },
   "source": [
    "## CDF (Cumulative distribution function)\n",
    "\n",
    "Drawing a CDF is easy. Because it's very common data visualization, histogram has an option called `cumulative`. "
   ]
  },
  {
   "cell_type": "code",
   "execution_count": 68,
   "metadata": {
    "colab": {
     "base_uri": "https://localhost:8080/",
     "height": 287
    },
    "colab_type": "code",
    "id": "InsgOCjQlnOq",
    "jupyter": {
     "outputs_hidden": false
    },
    "outputId": "10ce4c53-b79c-4730-d946-288f32b22a89"
   },
   "outputs": [
    {
     "data": {
      "text/plain": [
       "<matplotlib.axes._subplots.AxesSubplot at 0x7f4293d96518>"
      ]
     },
     "execution_count": 68,
     "metadata": {
      "tags": []
     },
     "output_type": "execute_result"
    },
    {
     "data": {
      "image/png": "[encoded data removed]",
      "text/plain": [
       "<Figure size 432x288 with 1 Axes>"
      ]
     },
     "metadata": {
      "tags": []
     },
     "output_type": "display_data"
    }
   ],
   "source": [
    "movies.IMDB_Rating.hist(cumulative=True)"
   ]
  },
  {
   "cell_type": "markdown",
   "metadata": {
    "colab_type": "text",
    "id": "u_7mZN_KlnOv"
   },
   "source": [
    "You can also combine with options such as `histtype` and `density`."
   ]
  },
  {
   "cell_type": "code",
   "execution_count": 69,
   "metadata": {
    "colab": {
     "base_uri": "https://localhost:8080/",
     "height": 287
    },
    "colab_type": "code",
    "id": "ir7LbACMlnOw",
    "jupyter": {
     "outputs_hidden": false
    },
    "outputId": "c6459c99-69a7-4def-e059-d246316a27bf"
   },
   "outputs": [
    {
     "data": {
      "text/plain": [
       "<matplotlib.axes._subplots.AxesSubplot at 0x7f4295b5a400>"
      ]
     },
     "execution_count": 69,
     "metadata": {
      "tags": []
     },
     "output_type": "execute_result"
    },
    {
     "data": {
      "image/png": "[encoded data removed]",
      "text/plain": [
       "<Figure size 432x288 with 1 Axes>"
      ]
     },
     "metadata": {
      "tags": []
     },
     "output_type": "display_data"
    }
   ],
   "source": [
    "movies.IMDB_Rating.hist(histtype='step', cumulative=True, density=True)"
   ]
  },
  {
   "cell_type": "markdown",
   "metadata": {
    "colab_type": "text",
    "id": "wJefwYT1lnOz"
   },
   "source": [
    "And increase the number of bins. "
   ]
  },
  {
   "cell_type": "code",
   "execution_count": 70,
   "metadata": {
    "colab": {
     "base_uri": "https://localhost:8080/",
     "height": 287
    },
    "colab_type": "code",
    "id": "H-kXaahklnO0",
    "jupyter": {
     "outputs_hidden": false
    },
    "outputId": "263b0eb4-1b0b-4007-9572-20468868a4a7"
   },
   "outputs": [
    {
     "data": {
      "text/plain": [
       "<matplotlib.axes._subplots.AxesSubplot at 0x7f4295bcb7b8>"
      ]
     },
     "execution_count": 70,
     "metadata": {
      "tags": []
     },
     "output_type": "execute_result"
    },
    {
     "data": {
      "image/png": "[encoded data removed]",
      "text/plain": [
       "<Figure size 432x288 with 1 Axes>"
      ]
     },
     "metadata": {
      "tags": []
     },
     "output_type": "display_data"
    }
   ],
   "source": [
    "movies.IMDB_Rating.hist(cumulative=True, density=True, bins=1000)"
   ]
  },
  {
   "cell_type": "markdown",
   "metadata": {
    "colab_type": "text",
    "id": "PUgB2r-plnO7"
   },
   "source": [
    "This method works fine. By increasing the number of bins, you can get a CDF in the resolution that you want. But let's also try it manually to better understand what's going on. First, we should sort all the values. "
   ]
  },
  {
   "cell_type": "code",
   "execution_count": 71,
   "metadata": {
    "colab": {
     "base_uri": "https://localhost:8080/",
     "height": 124
    },
    "colab_type": "code",
    "id": "6EqFy6xXlnO8",
    "jupyter": {
     "outputs_hidden": false
    },
    "outputId": "16d6cf4e-0ed7-4326-a575-d4fd73342316"
   },
   "outputs": [
    {
     "data": {
      "text/plain": [
       "1247    1.4\n",
       "406     1.5\n",
       "1754    1.6\n",
       "1590    1.7\n",
       "1515    1.7\n",
       "Name: IMDB_Rating, dtype: float64"
      ]
     },
     "execution_count": 71,
     "metadata": {
      "tags": []
     },
     "output_type": "execute_result"
    }
   ],
   "source": [
    "rating_sorted = movies.IMDB_Rating.sort_values()\n",
    "rating_sorted.head()"
   ]
  },
  {
   "cell_type": "markdown",
   "metadata": {
    "colab_type": "text",
    "id": "63Dm01jdlnPC"
   },
   "source": [
    "We need to know the number of data points, "
   ]
  },
  {
   "cell_type": "code",
   "execution_count": 72,
   "metadata": {
    "colab": {
     "base_uri": "https://localhost:8080/",
     "height": 35
    },
    "colab_type": "code",
    "id": "HLg0TEr2lnPC",
    "jupyter": {
     "outputs_hidden": false
    },
    "outputId": "d59947d6-9c44-4cb4-8c04-ba6ca9e08b62"
   },
   "outputs": [
    {
     "data": {
      "text/plain": [
       "2988"
      ]
     },
     "execution_count": 72,
     "metadata": {
      "tags": []
     },
     "output_type": "execute_result"
    }
   ],
   "source": [
    "N = len(rating_sorted)\n",
    "N"
   ]
  },
  {
   "cell_type": "markdown",
   "metadata": {
    "colab_type": "text",
    "id": "FhyijRqflnPF"
   },
   "source": [
    "And I think this may be useful for you. "
   ]
  },
  {
   "cell_type": "code",
   "execution_count": 73,
   "metadata": {
    "colab": {
     "base_uri": "https://localhost:8080/",
     "height": 106
    },
    "colab_type": "code",
    "id": "itKZvx_zlnPG",
    "jupyter": {
     "outputs_hidden": false
    },
    "outputId": "2763165c-7acb-4e01-b12c-be13240e2e6f"
   },
   "outputs": [
    {
     "data": {
      "text/plain": [
       "array([0.02, 0.04, 0.06, 0.08, 0.1 , 0.12, 0.14, 0.16, 0.18, 0.2 , 0.22,\n",
       "       0.24, 0.26, 0.28, 0.3 , 0.32, 0.34, 0.36, 0.38, 0.4 , 0.42, 0.44,\n",
       "       0.46, 0.48, 0.5 , 0.52, 0.54, 0.56, 0.58, 0.6 , 0.62, 0.64, 0.66,\n",
       "       0.68, 0.7 , 0.72, 0.74, 0.76, 0.78, 0.8 , 0.82, 0.84, 0.86, 0.88,\n",
       "       0.9 , 0.92, 0.94, 0.96, 0.98, 1.  ])"
      ]
     },
     "execution_count": 73,
     "metadata": {
      "tags": []
     },
     "output_type": "execute_result"
    }
   ],
   "source": [
    "n = 50\n",
    "np.linspace(1/n, 1.0, num=n)"
   ]
  },
  {
   "cell_type": "markdown",
   "metadata": {
    "colab_type": "text",
    "id": "QIqXEQlKlnPL"
   },
   "source": [
    "**Q: now you're ready to draw a proper CDF. Draw the CDF plot of this data.** "
   ]
  },
  {
   "cell_type": "code",
   "execution_count": 74,
   "metadata": {
    "colab": {
     "base_uri": "https://localhost:8080/",
     "height": 287
    },
    "colab_type": "code",
    "id": "rg5VuJEPlnPN",
    "jupyter": {
     "outputs_hidden": false
    },
    "outputId": "653f67c4-8369-426f-a209-d4f7a12f700a"
   },
   "outputs": [
    {
     "data": {
      "text/plain": [
       "[<matplotlib.lines.Line2D at 0x7f4293306048>]"
      ]
     },
     "execution_count": 74,
     "metadata": {
      "tags": []
     },
     "output_type": "execute_result"
    },
    {
     "data": {
      "image/png": "[encoded data removed]",
      "text/plain": [
       "<Figure size 432x288 with 1 Axes>"
      ]
     },
     "metadata": {
      "tags": []
     },
     "output_type": "display_data"
    }
   ],
   "source": [
    "plt.plot(rating_sorted,np.linspace(1/N,1,num=N))"
   ]
  },
  {
   "cell_type": "markdown",
   "metadata": {
    "colab_type": "text",
    "id": "zoy7Pq_YlnPR"
   },
   "source": [
    "## A bit more histogram with altair\n",
    "\n",
    "As you may remember, you can get a pandas dataframe from `vega_datasets` package and use it to create visualizations. But, if you use `altair`, you can simply pass the URL instead of the actual data. "
   ]
  },
  {
   "cell_type": "code",
   "execution_count": 75,
   "metadata": {
    "colab": {
     "base_uri": "https://localhost:8080/",
     "height": 35
    },
    "colab_type": "code",
    "id": "sNa4BB_hlnPR",
    "jupyter": {
     "outputs_hidden": false
    },
    "outputId": "a58b9875-b216-45b8-d33b-a8d5dd6f20fc"
   },
   "outputs": [
    {
     "data": {
      "text/plain": [
       "'https://vega.github.io/vega-datasets/data/movies.json'"
      ]
     },
     "execution_count": 75,
     "metadata": {
      "tags": []
     },
     "output_type": "execute_result"
    }
   ],
   "source": [
    "vega_datasets.data.movies.url"
   ]
  },
  {
   "cell_type": "code",
   "execution_count": 0,
   "metadata": {
    "colab": {},
    "colab_type": "code",
    "id": "mF05eEf4lnPV",
    "jupyter": {
     "outputs_hidden": false
    }
   },
   "outputs": [],
   "source": [
    "# Choose based on your environment\n",
    "# alt.renderers.enable('jupyterlab')\n",
    "# alt.renderers.enable('notebook')"
   ]
  },
  {
   "cell_type": "markdown",
   "metadata": {
    "colab_type": "text",
    "id": "Wj4WkJtZlnPX"
   },
   "source": [
    "As mentioned before, in `altair` histogram is not special. It is just a plot that use bars (`mark_bar()`) where X axis is defined by `IMDB_Rating` with bins (`bin=True`), and Y axis is defined by `count()` aggregation function. "
   ]
  },
  {
   "cell_type": "code",
   "execution_count": 77,
   "metadata": {
    "colab": {
     "base_uri": "https://localhost:8080/",
     "height": 369
    },
    "colab_type": "code",
    "id": "RC2VP-0DlnPZ",
    "jupyter": {
     "outputs_hidden": false
    },
    "outputId": "0bca3cf3-8935-495d-a40f-668b3a596dc6"
   },
   "outputs": [
    {
     "data": {
      "text/html": [
       "<!DOCTYPE html>\n",
       "<html>\n",
       "<head>\n",
       "  <style>\n",
       "    .vega-actions a {\n",
       "        margin-right: 12px;\n",
       "        color: #757575;\n",
       "        font-weight: normal;\n",
       "        font-size: 13px;\n",
       "    }\n",
       "    .error {\n",
       "        color: red;\n",
       "    }\n",
       "  </style>\n",
       "  <script type=\"text/javascript\" src=\"https://cdn.jsdelivr.net/npm//vega@5\"></script>\n",
       "  <script type=\"text/javascript\" src=\"https://cdn.jsdelivr.net/npm//vega-lite@3.4.0\"></script>\n",
       "  <script type=\"text/javascript\" src=\"https://cdn.jsdelivr.net/npm//vega-embed@4\"></script>\n",
       "</head>\n",
       "<body>\n",
       "  <div id=\"altair-viz\"></div>\n",
       "  <script>\n",
       "    (function(vegaEmbed) {\n",
       "      var spec = {\"config\": {\"view\": {\"width\": 400, \"height\": 300}, \"mark\": {\"tooltip\": null}}, \"data\": {\"url\": \"https://vega.github.io/vega-datasets/data/movies.json\"}, \"mark\": \"bar\", \"encoding\": {\"x\": {\"type\": \"quantitative\", \"bin\": true, \"field\": \"IMDB_Rating\"}, \"y\": {\"type\": \"quantitative\", \"aggregate\": \"count\"}}, \"$schema\": \"https://vega.github.io/schema/vega-lite/v3.4.0.json\"};\n",
       "      var embedOpt = {\"mode\": \"vega-lite\"};\n",
       "\n",
       "      function showError(el, error){\n",
       "          el.innerHTML = ('<div class=\"error\" style=\"color:red;\">'\n",
       "                          + '<p>JavaScript Error: ' + error.message + '</p>'\n",
       "                          + \"<p>This usually means there's a typo in your chart specification. \"\n",
       "                          + \"See the javascript console for the full traceback.</p>\"\n",
       "                          + '</div>');\n",
       "          throw error;\n",
       "      }\n",
       "      const el = document.getElementById('altair-viz');\n",
       "      vegaEmbed(\"#altair-viz\", spec, embedOpt)\n",
       "        .catch(error => showError(el, error));\n",
       "    })(vegaEmbed);\n",
       "\n",
       "  </script>\n",
       "</body>\n",
       "</html>"
      ],
      "text/plain": [
       "alt.Chart(...)"
      ]
     },
     "execution_count": 77,
     "metadata": {
      "tags": []
     },
     "output_type": "execute_result"
    }
   ],
   "source": [
    "alt.Chart(vega_datasets.data.movies.url).mark_bar().encode(\n",
    "    alt.X(\"IMDB_Rating:Q\",  bin=True),\n",
    "    alt.Y('count()')\n",
    ")"
   ]
  },
  {
   "cell_type": "markdown",
   "metadata": {
    "colab_type": "text",
    "id": "PUhf1goflnPe"
   },
   "source": [
    "Have you noted that it is `IMDB_Rating:Q` not `IMDB_Rating`? This is a shorthand for"
   ]
  },
  {
   "cell_type": "code",
   "execution_count": 78,
   "metadata": {
    "colab": {
     "base_uri": "https://localhost:8080/",
     "height": 369
    },
    "colab_type": "code",
    "id": "5-IETTm5lnPe",
    "jupyter": {
     "outputs_hidden": false
    },
    "outputId": "4c273e86-c39d-4583-beda-8f5e75c03591"
   },
   "outputs": [
    {
     "data": {
      "text/html": [
       "<!DOCTYPE html>\n",
       "<html>\n",
       "<head>\n",
       "  <style>\n",
       "    .vega-actions a {\n",
       "        margin-right: 12px;\n",
       "        color: #757575;\n",
       "        font-weight: normal;\n",
       "        font-size: 13px;\n",
       "    }\n",
       "    .error {\n",
       "        color: red;\n",
       "    }\n",
       "  </style>\n",
       "  <script type=\"text/javascript\" src=\"https://cdn.jsdelivr.net/npm//vega@5\"></script>\n",
       "  <script type=\"text/javascript\" src=\"https://cdn.jsdelivr.net/npm//vega-lite@3.4.0\"></script>\n",
       "  <script type=\"text/javascript\" src=\"https://cdn.jsdelivr.net/npm//vega-embed@4\"></script>\n",
       "</head>\n",
       "<body>\n",
       "  <div id=\"altair-viz\"></div>\n",
       "  <script>\n",
       "    (function(vegaEmbed) {\n",
       "      var spec = {\"config\": {\"view\": {\"width\": 400, \"height\": 300}, \"mark\": {\"tooltip\": null}}, \"data\": {\"url\": \"https://vega.github.io/vega-datasets/data/movies.json\"}, \"mark\": \"bar\", \"encoding\": {\"x\": {\"type\": \"quantitative\", \"bin\": true, \"field\": \"IMDB_Rating\"}, \"y\": {\"type\": \"quantitative\", \"aggregate\": \"count\"}}, \"$schema\": \"https://vega.github.io/schema/vega-lite/v3.4.0.json\"};\n",
       "      var embedOpt = {\"mode\": \"vega-lite\"};\n",
       "\n",
       "      function showError(el, error){\n",
       "          el.innerHTML = ('<div class=\"error\" style=\"color:red;\">'\n",
       "                          + '<p>JavaScript Error: ' + error.message + '</p>'\n",
       "                          + \"<p>This usually means there's a typo in your chart specification. \"\n",
       "                          + \"See the javascript console for the full traceback.</p>\"\n",
       "                          + '</div>');\n",
       "          throw error;\n",
       "      }\n",
       "      const el = document.getElementById('altair-viz');\n",
       "      vegaEmbed(\"#altair-viz\", spec, embedOpt)\n",
       "        .catch(error => showError(el, error));\n",
       "    })(vegaEmbed);\n",
       "\n",
       "  </script>\n",
       "</body>\n",
       "</html>"
      ],
      "text/plain": [
       "alt.Chart(...)"
      ]
     },
     "execution_count": 78,
     "metadata": {
      "tags": []
     },
     "output_type": "execute_result"
    }
   ],
   "source": [
    "alt.Chart(vega_datasets.data.movies.url).mark_bar().encode(\n",
    "    alt.X('IMDB_Rating', type='quantitative', bin=True),\n",
    "    alt.Y(aggregate='count', type='quantitative')\n",
    ")"
   ]
  },
  {
   "cell_type": "markdown",
   "metadata": {
    "colab_type": "text",
    "id": "_PYxvbLmlnPh"
   },
   "source": [
    "In altair, you want to specify the data types using one of the four categories: quantitative, ordinal, nominal, and temporal. https://altair-viz.github.io/user_guide/encoding.html#data-types"
   ]
  },
  {
   "cell_type": "markdown",
   "metadata": {
    "colab_type": "text",
    "id": "f1DPLr--lnPh"
   },
   "source": [
    "Although you can adjust the bins in `altair`, it does not encourage you to set the bins directly. For instance, although there is `step` parameter that directly sets the bin size, there are parameters such as `maxbins` (maximum number of bins) or `minstep` (minimum allowable step size), or `nice` (attemps to make the bin boundaries more human-friendly), that encourage you not to specify the bins directly. "
   ]
  },
  {
   "cell_type": "code",
   "execution_count": 79,
   "metadata": {
    "colab": {
     "base_uri": "https://localhost:8080/",
     "height": 369
    },
    "colab_type": "code",
    "id": "DbxqvynzlnPi",
    "jupyter": {
     "outputs_hidden": false
    },
    "outputId": "1c71354e-a039-45c9-db0c-e28b54a4ffcf"
   },
   "outputs": [
    {
     "data": {
      "text/html": [
       "<!DOCTYPE html>\n",
       "<html>\n",
       "<head>\n",
       "  <style>\n",
       "    .vega-actions a {\n",
       "        margin-right: 12px;\n",
       "        color: #757575;\n",
       "        font-weight: normal;\n",
       "        font-size: 13px;\n",
       "    }\n",
       "    .error {\n",
       "        color: red;\n",
       "    }\n",
       "  </style>\n",
       "  <script type=\"text/javascript\" src=\"https://cdn.jsdelivr.net/npm//vega@5\"></script>\n",
       "  <script type=\"text/javascript\" src=\"https://cdn.jsdelivr.net/npm//vega-lite@3.4.0\"></script>\n",
       "  <script type=\"text/javascript\" src=\"https://cdn.jsdelivr.net/npm//vega-embed@4\"></script>\n",
       "</head>\n",
       "<body>\n",
       "  <div id=\"altair-viz\"></div>\n",
       "  <script>\n",
       "    (function(vegaEmbed) {\n",
       "      var spec = {\"config\": {\"view\": {\"width\": 400, \"height\": 300}, \"mark\": {\"tooltip\": null}}, \"data\": {\"url\": \"https://vega.github.io/vega-datasets/data/movies.json\"}, \"mark\": \"bar\", \"encoding\": {\"x\": {\"type\": \"quantitative\", \"bin\": {\"step\": 0.09}, \"field\": \"IMDB_Rating\"}, \"y\": {\"type\": \"quantitative\", \"aggregate\": \"count\"}}, \"$schema\": \"https://vega.github.io/schema/vega-lite/v3.4.0.json\"};\n",
       "      var embedOpt = {\"mode\": \"vega-lite\"};\n",
       "\n",
       "      function showError(el, error){\n",
       "          el.innerHTML = ('<div class=\"error\" style=\"color:red;\">'\n",
       "                          + '<p>JavaScript Error: ' + error.message + '</p>'\n",
       "                          + \"<p>This usually means there's a typo in your chart specification. \"\n",
       "                          + \"See the javascript console for the full traceback.</p>\"\n",
       "                          + '</div>');\n",
       "          throw error;\n",
       "      }\n",
       "      const el = document.getElementById('altair-viz');\n",
       "      vegaEmbed(\"#altair-viz\", spec, embedOpt)\n",
       "        .catch(error => showError(el, error));\n",
       "    })(vegaEmbed);\n",
       "\n",
       "  </script>\n",
       "</body>\n",
       "</html>"
      ],
      "text/plain": [
       "alt.Chart(...)"
      ]
     },
     "execution_count": 79,
     "metadata": {
      "tags": []
     },
     "output_type": "execute_result"
    }
   ],
   "source": [
    "from altair import Bin\n",
    "\n",
    "alt.Chart(vega_datasets.data.movies.url).mark_bar().encode(\n",
    "    alt.X(\"IMDB_Rating:Q\",  bin=Bin(step=0.09)),\n",
    "    alt.Y('count()')\n",
    ")"
   ]
  },
  {
   "cell_type": "code",
   "execution_count": 80,
   "metadata": {
    "colab": {
     "base_uri": "https://localhost:8080/",
     "height": 369
    },
    "colab_type": "code",
    "id": "IOMSf6IjlnPk",
    "jupyter": {
     "outputs_hidden": false
    },
    "outputId": "3e90b430-5026-466b-c5e3-081c61c296a9"
   },
   "outputs": [
    {
     "data": {
      "text/html": [
       "<!DOCTYPE html>\n",
       "<html>\n",
       "<head>\n",
       "  <style>\n",
       "    .vega-actions a {\n",
       "        margin-right: 12px;\n",
       "        color: #757575;\n",
       "        font-weight: normal;\n",
       "        font-size: 13px;\n",
       "    }\n",
       "    .error {\n",
       "        color: red;\n",
       "    }\n",
       "  </style>\n",
       "  <script type=\"text/javascript\" src=\"https://cdn.jsdelivr.net/npm//vega@5\"></script>\n",
       "  <script type=\"text/javascript\" src=\"https://cdn.jsdelivr.net/npm//vega-lite@3.4.0\"></script>\n",
       "  <script type=\"text/javascript\" src=\"https://cdn.jsdelivr.net/npm//vega-embed@4\"></script>\n",
       "</head>\n",
       "<body>\n",
       "  <div id=\"altair-viz\"></div>\n",
       "  <script>\n",
       "    (function(vegaEmbed) {\n",
       "      var spec = {\"config\": {\"view\": {\"width\": 400, \"height\": 300}, \"mark\": {\"tooltip\": null}}, \"data\": {\"url\": \"https://vega.github.io/vega-datasets/data/movies.json\"}, \"mark\": \"bar\", \"encoding\": {\"x\": {\"type\": \"quantitative\", \"bin\": {\"maxbins\": 20, \"nice\": true}, \"field\": \"IMDB_Rating\"}, \"y\": {\"type\": \"quantitative\", \"aggregate\": \"count\"}}, \"$schema\": \"https://vega.github.io/schema/vega-lite/v3.4.0.json\"};\n",
       "      var embedOpt = {\"mode\": \"vega-lite\"};\n",
       "\n",
       "      function showError(el, error){\n",
       "          el.innerHTML = ('<div class=\"error\" style=\"color:red;\">'\n",
       "                          + '<p>JavaScript Error: ' + error.message + '</p>'\n",
       "                          + \"<p>This usually means there's a typo in your chart specification. \"\n",
       "                          + \"See the javascript console for the full traceback.</p>\"\n",
       "                          + '</div>');\n",
       "          throw error;\n",
       "      }\n",
       "      const el = document.getElementById('altair-viz');\n",
       "      vegaEmbed(\"#altair-viz\", spec, embedOpt)\n",
       "        .catch(error => showError(el, error));\n",
       "    })(vegaEmbed);\n",
       "\n",
       "  </script>\n",
       "</body>\n",
       "</html>"
      ],
      "text/plain": [
       "alt.Chart(...)"
      ]
     },
     "execution_count": 80,
     "metadata": {
      "tags": []
     },
     "output_type": "execute_result"
    }
   ],
   "source": [
    "alt.Chart(vega_datasets.data.movies.url).mark_bar().encode(\n",
    "    alt.X(\"IMDB_Rating:Q\",  bin=Bin(nice=True, maxbins=20)),\n",
    "    alt.Y('count()')\n",
    ")"
   ]
  },
  {
   "cell_type": "markdown",
   "metadata": {
    "colab_type": "text",
    "id": "aFP-56w6lnPs"
   },
   "source": [
    "### Composing charts in altair\n",
    "\n",
    "`altair` has a very nice way to compose multiple plots. Two histograms side by side? just do the following."
   ]
  },
  {
   "cell_type": "code",
   "execution_count": 0,
   "metadata": {
    "colab": {},
    "colab_type": "code",
    "id": "QcpZPOYtlnPt"
   },
   "outputs": [],
   "source": [
    "chart1 = alt.Chart(vega_datasets.data.movies.url).mark_bar().encode(\n",
    "    alt.X(\"IMDB_Rating:Q\",  bin=Bin(step=0.1)),\n",
    "    alt.Y('count()')\n",
    ").properties(\n",
    "    width=300,\n",
    "    height=150\n",
    ")\n",
    "chart2 = alt.Chart(vega_datasets.data.movies.url).mark_bar().encode(\n",
    "    alt.X(\"IMDB_Rating:Q\",  bin=Bin(nice=True, maxbins=20)),\n",
    "    alt.Y('count()')\n",
    ").properties(\n",
    "    width=300,\n",
    "    height=150\n",
    ")"
   ]
  },
  {
   "cell_type": "code",
   "execution_count": 82,
   "metadata": {
    "colab": {
     "base_uri": "https://localhost:8080/",
     "height": 216
    },
    "colab_type": "code",
    "id": "u2l9q4G4lnPw",
    "jupyter": {
     "outputs_hidden": false
    },
    "outputId": "a0399d0a-b8aa-4322-bde0-a618514db144"
   },
   "outputs": [
    {
     "data": {
      "text/html": [
       "<!DOCTYPE html>\n",
       "<html>\n",
       "<head>\n",
       "  <style>\n",
       "    .vega-actions a {\n",
       "        margin-right: 12px;\n",
       "        color: #757575;\n",
       "        font-weight: normal;\n",
       "        font-size: 13px;\n",
       "    }\n",
       "    .error {\n",
       "        color: red;\n",
       "    }\n",
       "  </style>\n",
       "  <script type=\"text/javascript\" src=\"https://cdn.jsdelivr.net/npm//vega@5\"></script>\n",
       "  <script type=\"text/javascript\" src=\"https://cdn.jsdelivr.net/npm//vega-lite@3.4.0\"></script>\n",
       "  <script type=\"text/javascript\" src=\"https://cdn.jsdelivr.net/npm//vega-embed@4\"></script>\n",
       "</head>\n",
       "<body>\n",
       "  <div id=\"altair-viz\"></div>\n",
       "  <script>\n",
       "    (function(vegaEmbed) {\n",
       "      var spec = {\"config\": {\"view\": {\"width\": 400, \"height\": 300}, \"mark\": {\"tooltip\": null}}, \"hconcat\": [{\"data\": {\"url\": \"https://vega.github.io/vega-datasets/data/movies.json\"}, \"mark\": \"bar\", \"encoding\": {\"x\": {\"type\": \"quantitative\", \"bin\": {\"step\": 0.1}, \"field\": \"IMDB_Rating\"}, \"y\": {\"type\": \"quantitative\", \"aggregate\": \"count\"}}, \"height\": 150, \"width\": 300}, {\"data\": {\"url\": \"https://vega.github.io/vega-datasets/data/movies.json\"}, \"mark\": \"bar\", \"encoding\": {\"x\": {\"type\": \"quantitative\", \"bin\": {\"maxbins\": 20, \"nice\": true}, \"field\": \"IMDB_Rating\"}, \"y\": {\"type\": \"quantitative\", \"aggregate\": \"count\"}}, \"height\": 150, \"width\": 300}], \"$schema\": \"https://vega.github.io/schema/vega-lite/v3.4.0.json\"};\n",
       "      var embedOpt = {\"mode\": \"vega-lite\"};\n",
       "\n",
       "      function showError(el, error){\n",
       "          el.innerHTML = ('<div class=\"error\" style=\"color:red;\">'\n",
       "                          + '<p>JavaScript Error: ' + error.message + '</p>'\n",
       "                          + \"<p>This usually means there's a typo in your chart specification. \"\n",
       "                          + \"See the javascript console for the full traceback.</p>\"\n",
       "                          + '</div>');\n",
       "          throw error;\n",
       "      }\n",
       "      const el = document.getElementById('altair-viz');\n",
       "      vegaEmbed(\"#altair-viz\", spec, embedOpt)\n",
       "        .catch(error => showError(el, error));\n",
       "    })(vegaEmbed);\n",
       "\n",
       "  </script>\n",
       "</body>\n",
       "</html>"
      ],
      "text/plain": [
       "alt.HConcatChart(...)"
      ]
     },
     "execution_count": 82,
     "metadata": {
      "tags": []
     },
     "output_type": "execute_result"
    }
   ],
   "source": [
    "chart1 | chart2"
   ]
  },
  {
   "cell_type": "code",
   "execution_count": 83,
   "metadata": {
    "colab": {
     "base_uri": "https://localhost:8080/",
     "height": 216
    },
    "colab_type": "code",
    "id": "MVhdJhZOlnPy",
    "jupyter": {
     "outputs_hidden": false
    },
    "outputId": "a88271c0-1b62-4201-ebad-51e031c2c734"
   },
   "outputs": [
    {
     "data": {
      "text/html": [
       "<!DOCTYPE html>\n",
       "<html>\n",
       "<head>\n",
       "  <style>\n",
       "    .vega-actions a {\n",
       "        margin-right: 12px;\n",
       "        color: #757575;\n",
       "        font-weight: normal;\n",
       "        font-size: 13px;\n",
       "    }\n",
       "    .error {\n",
       "        color: red;\n",
       "    }\n",
       "  </style>\n",
       "  <script type=\"text/javascript\" src=\"https://cdn.jsdelivr.net/npm//vega@5\"></script>\n",
       "  <script type=\"text/javascript\" src=\"https://cdn.jsdelivr.net/npm//vega-lite@3.4.0\"></script>\n",
       "  <script type=\"text/javascript\" src=\"https://cdn.jsdelivr.net/npm//vega-embed@4\"></script>\n",
       "</head>\n",
       "<body>\n",
       "  <div id=\"altair-viz\"></div>\n",
       "  <script>\n",
       "    (function(vegaEmbed) {\n",
       "      var spec = {\"config\": {\"view\": {\"width\": 400, \"height\": 300}, \"mark\": {\"tooltip\": null}}, \"hconcat\": [{\"data\": {\"url\": \"https://vega.github.io/vega-datasets/data/movies.json\"}, \"mark\": \"bar\", \"encoding\": {\"x\": {\"type\": \"quantitative\", \"bin\": {\"step\": 0.1}, \"field\": \"IMDB_Rating\"}, \"y\": {\"type\": \"quantitative\", \"aggregate\": \"count\"}}, \"height\": 150, \"width\": 300}, {\"data\": {\"url\": \"https://vega.github.io/vega-datasets/data/movies.json\"}, \"mark\": \"bar\", \"encoding\": {\"x\": {\"type\": \"quantitative\", \"bin\": {\"maxbins\": 20, \"nice\": true}, \"field\": \"IMDB_Rating\"}, \"y\": {\"type\": \"quantitative\", \"aggregate\": \"count\"}}, \"height\": 150, \"width\": 300}], \"$schema\": \"https://vega.github.io/schema/vega-lite/v3.4.0.json\"};\n",
       "      var embedOpt = {\"mode\": \"vega-lite\"};\n",
       "\n",
       "      function showError(el, error){\n",
       "          el.innerHTML = ('<div class=\"error\" style=\"color:red;\">'\n",
       "                          + '<p>JavaScript Error: ' + error.message + '</p>'\n",
       "                          + \"<p>This usually means there's a typo in your chart specification. \"\n",
       "                          + \"See the javascript console for the full traceback.</p>\"\n",
       "                          + '</div>');\n",
       "          throw error;\n",
       "      }\n",
       "      const el = document.getElementById('altair-viz');\n",
       "      vegaEmbed(\"#altair-viz\", spec, embedOpt)\n",
       "        .catch(error => showError(el, error));\n",
       "    })(vegaEmbed);\n",
       "\n",
       "  </script>\n",
       "</body>\n",
       "</html>"
      ],
      "text/plain": [
       "alt.HConcatChart(...)"
      ]
     },
     "execution_count": 83,
     "metadata": {
      "tags": []
     },
     "output_type": "execute_result"
    }
   ],
   "source": [
    "alt.hconcat(chart1, chart2)"
   ]
  },
  {
   "cell_type": "markdown",
   "metadata": {
    "colab_type": "text",
    "id": "fc6QWyJLlnP1"
   },
   "source": [
    "Vertical commposition? "
   ]
  },
  {
   "cell_type": "code",
   "execution_count": 84,
   "metadata": {
    "colab": {
     "base_uri": "https://localhost:8080/",
     "height": 420
    },
    "colab_type": "code",
    "id": "7fPmYPeilnP1",
    "jupyter": {
     "outputs_hidden": false
    },
    "outputId": "46e11f79-d52e-45b8-ff51-abf09e77eb0e"
   },
   "outputs": [
    {
     "data": {
      "text/html": [
       "<!DOCTYPE html>\n",
       "<html>\n",
       "<head>\n",
       "  <style>\n",
       "    .vega-actions a {\n",
       "        margin-right: 12px;\n",
       "        color: #757575;\n",
       "        font-weight: normal;\n",
       "        font-size: 13px;\n",
       "    }\n",
       "    .error {\n",
       "        color: red;\n",
       "    }\n",
       "  </style>\n",
       "  <script type=\"text/javascript\" src=\"https://cdn.jsdelivr.net/npm//vega@5\"></script>\n",
       "  <script type=\"text/javascript\" src=\"https://cdn.jsdelivr.net/npm//vega-lite@3.4.0\"></script>\n",
       "  <script type=\"text/javascript\" src=\"https://cdn.jsdelivr.net/npm//vega-embed@4\"></script>\n",
       "</head>\n",
       "<body>\n",
       "  <div id=\"altair-viz\"></div>\n",
       "  <script>\n",
       "    (function(vegaEmbed) {\n",
       "      var spec = {\"config\": {\"view\": {\"width\": 400, \"height\": 300}, \"mark\": {\"tooltip\": null}}, \"vconcat\": [{\"data\": {\"url\": \"https://vega.github.io/vega-datasets/data/movies.json\"}, \"mark\": \"bar\", \"encoding\": {\"x\": {\"type\": \"quantitative\", \"bin\": {\"step\": 0.1}, \"field\": \"IMDB_Rating\"}, \"y\": {\"type\": \"quantitative\", \"aggregate\": \"count\"}}, \"height\": 150, \"width\": 300}, {\"data\": {\"url\": \"https://vega.github.io/vega-datasets/data/movies.json\"}, \"mark\": \"bar\", \"encoding\": {\"x\": {\"type\": \"quantitative\", \"bin\": {\"maxbins\": 20, \"nice\": true}, \"field\": \"IMDB_Rating\"}, \"y\": {\"type\": \"quantitative\", \"aggregate\": \"count\"}}, \"height\": 150, \"width\": 300}], \"$schema\": \"https://vega.github.io/schema/vega-lite/v3.4.0.json\"};\n",
       "      var embedOpt = {\"mode\": \"vega-lite\"};\n",
       "\n",
       "      function showError(el, error){\n",
       "          el.innerHTML = ('<div class=\"error\" style=\"color:red;\">'\n",
       "                          + '<p>JavaScript Error: ' + error.message + '</p>'\n",
       "                          + \"<p>This usually means there's a typo in your chart specification. \"\n",
       "                          + \"See the javascript console for the full traceback.</p>\"\n",
       "                          + '</div>');\n",
       "          throw error;\n",
       "      }\n",
       "      const el = document.getElementById('altair-viz');\n",
       "      vegaEmbed(\"#altair-viz\", spec, embedOpt)\n",
       "        .catch(error => showError(el, error));\n",
       "    })(vegaEmbed);\n",
       "\n",
       "  </script>\n",
       "</body>\n",
       "</html>"
      ],
      "text/plain": [
       "alt.VConcatChart(...)"
      ]
     },
     "execution_count": 84,
     "metadata": {
      "tags": []
     },
     "output_type": "execute_result"
    }
   ],
   "source": [
    "alt.vconcat(chart1, chart2)"
   ]
  },
  {
   "cell_type": "code",
   "execution_count": 85,
   "metadata": {
    "colab": {
     "base_uri": "https://localhost:8080/",
     "height": 420
    },
    "colab_type": "code",
    "id": "BUIm_SQNlnP5",
    "jupyter": {
     "outputs_hidden": false
    },
    "outputId": "4a2cffbc-9d82-490e-9443-1c696b0f94e2"
   },
   "outputs": [
    {
     "data": {
      "text/html": [
       "<!DOCTYPE html>\n",
       "<html>\n",
       "<head>\n",
       "  <style>\n",
       "    .vega-actions a {\n",
       "        margin-right: 12px;\n",
       "        color: #757575;\n",
       "        font-weight: normal;\n",
       "        font-size: 13px;\n",
       "    }\n",
       "    .error {\n",
       "        color: red;\n",
       "    }\n",
       "  </style>\n",
       "  <script type=\"text/javascript\" src=\"https://cdn.jsdelivr.net/npm//vega@5\"></script>\n",
       "  <script type=\"text/javascript\" src=\"https://cdn.jsdelivr.net/npm//vega-lite@3.4.0\"></script>\n",
       "  <script type=\"text/javascript\" src=\"https://cdn.jsdelivr.net/npm//vega-embed@4\"></script>\n",
       "</head>\n",
       "<body>\n",
       "  <div id=\"altair-viz\"></div>\n",
       "  <script>\n",
       "    (function(vegaEmbed) {\n",
       "      var spec = {\"config\": {\"view\": {\"width\": 400, \"height\": 300}, \"mark\": {\"tooltip\": null}}, \"vconcat\": [{\"data\": {\"url\": \"https://vega.github.io/vega-datasets/data/movies.json\"}, \"mark\": \"bar\", \"encoding\": {\"x\": {\"type\": \"quantitative\", \"bin\": {\"step\": 0.1}, \"field\": \"IMDB_Rating\"}, \"y\": {\"type\": \"quantitative\", \"aggregate\": \"count\"}}, \"height\": 150, \"width\": 300}, {\"data\": {\"url\": \"https://vega.github.io/vega-datasets/data/movies.json\"}, \"mark\": \"bar\", \"encoding\": {\"x\": {\"type\": \"quantitative\", \"bin\": {\"maxbins\": 20, \"nice\": true}, \"field\": \"IMDB_Rating\"}, \"y\": {\"type\": \"quantitative\", \"aggregate\": \"count\"}}, \"height\": 150, \"width\": 300}], \"$schema\": \"https://vega.github.io/schema/vega-lite/v3.4.0.json\"};\n",
       "      var embedOpt = {\"mode\": \"vega-lite\"};\n",
       "\n",
       "      function showError(el, error){\n",
       "          el.innerHTML = ('<div class=\"error\" style=\"color:red;\">'\n",
       "                          + '<p>JavaScript Error: ' + error.message + '</p>'\n",
       "                          + \"<p>This usually means there's a typo in your chart specification. \"\n",
       "                          + \"See the javascript console for the full traceback.</p>\"\n",
       "                          + '</div>');\n",
       "          throw error;\n",
       "      }\n",
       "      const el = document.getElementById('altair-viz');\n",
       "      vegaEmbed(\"#altair-viz\", spec, embedOpt)\n",
       "        .catch(error => showError(el, error));\n",
       "    })(vegaEmbed);\n",
       "\n",
       "  </script>\n",
       "</body>\n",
       "</html>"
      ],
      "text/plain": [
       "alt.VConcatChart(...)"
      ]
     },
     "execution_count": 85,
     "metadata": {
      "tags": []
     },
     "output_type": "execute_result"
    }
   ],
   "source": [
    "chart1 & chart2"
   ]
  },
  {
   "cell_type": "markdown",
   "metadata": {
    "colab_type": "text",
    "id": "zlvOnCjNlnP8"
   },
   "source": [
    "Shall we avoid some repetitions? You can define a *base* empty chart first and then assign encodings later when you put together multiple charts together. Here is an example: https://altair-viz.github.io/user_guide/compound_charts.html#repeated-charts\n",
    "\n",
    "**Q: Using the base chart approach to create a 2x2 chart where the top row shows the two histograms of `IMDB_Rating` with `maxbins`=10 and 50 respectively, and the bottom row shows another two histograms of `IMDB_Votes` with `maxbins`=10 and 50.**"
   ]
  },
  {
   "cell_type": "code",
   "execution_count": 101,
   "metadata": {
    "colab": {
     "base_uri": "https://localhost:8080/",
     "height": 530
    },
    "colab_type": "code",
    "id": "tREv60hYlnP9",
    "jupyter": {
     "outputs_hidden": false
    },
    "outputId": "a7df2a22-7456-4448-bf94-4c09c6ab7191"
   },
   "outputs": [
    {
     "data": {
      "text/html": [
       "<!DOCTYPE html>\n",
       "<html>\n",
       "<head>\n",
       "  <style>\n",
       "    .vega-actions a {\n",
       "        margin-right: 12px;\n",
       "        color: #757575;\n",
       "        font-weight: normal;\n",
       "        font-size: 13px;\n",
       "    }\n",
       "    .error {\n",
       "        color: red;\n",
       "    }\n",
       "  </style>\n",
       "  <script type=\"text/javascript\" src=\"https://cdn.jsdelivr.net/npm//vega@5\"></script>\n",
       "  <script type=\"text/javascript\" src=\"https://cdn.jsdelivr.net/npm//vega-lite@3.4.0\"></script>\n",
       "  <script type=\"text/javascript\" src=\"https://cdn.jsdelivr.net/npm//vega-embed@4\"></script>\n",
       "</head>\n",
       "<body>\n",
       "  <div id=\"altair-viz\"></div>\n",
       "  <script>\n",
       "    (function(vegaEmbed) {\n",
       "      var spec = {\"config\": {\"view\": {\"width\": 400, \"height\": 300}, \"mark\": {\"tooltip\": null}}, \"vconcat\": [{\"hconcat\": [{\"data\": {\"url\": \"https://vega.github.io/vega-datasets/data/movies.json\"}, \"mark\": \"bar\", \"encoding\": {\"x\": {\"type\": \"quantitative\", \"bin\": {\"maxbins\": 10, \"nice\": true}, \"field\": \"IMDB_Rating\"}, \"y\": {\"type\": \"quantitative\", \"aggregate\": \"count\"}}, \"height\": 200, \"width\": 200}, {\"data\": {\"url\": \"https://vega.github.io/vega-datasets/data/movies.json\"}, \"mark\": \"bar\", \"encoding\": {\"x\": {\"type\": \"quantitative\", \"bin\": {\"maxbins\": 20, \"nice\": true}, \"field\": \"IMDB_Rating\"}, \"y\": {\"type\": \"quantitative\", \"aggregate\": \"count\"}}, \"height\": 150, \"width\": 300}]}, {\"hconcat\": [{\"data\": {\"url\": \"https://vega.github.io/vega-datasets/data/movies.json\"}, \"mark\": \"bar\", \"encoding\": {\"x\": {\"type\": \"quantitative\", \"bin\": {\"maxbins\": 10, \"nice\": true}, \"field\": \"IMDB_Votes\"}, \"y\": {\"type\": \"quantitative\", \"aggregate\": \"count\"}}, \"height\": 200, \"width\": 200}, {\"data\": {\"url\": \"https://vega.github.io/vega-datasets/data/movies.json\"}, \"mark\": \"bar\", \"encoding\": {\"x\": {\"type\": \"quantitative\", \"bin\": {\"maxbins\": 50, \"nice\": true}, \"field\": \"IMDB_Votes\"}, \"y\": {\"type\": \"quantitative\", \"aggregate\": \"count\"}}, \"height\": 200, \"width\": 290}]}], \"$schema\": \"https://vega.github.io/schema/vega-lite/v3.4.0.json\"};\n",
       "      var embedOpt = {\"mode\": \"vega-lite\"};\n",
       "\n",
       "      function showError(el, error){\n",
       "          el.innerHTML = ('<div class=\"error\" style=\"color:red;\">'\n",
       "                          + '<p>JavaScript Error: ' + error.message + '</p>'\n",
       "                          + \"<p>This usually means there's a typo in your chart specification. \"\n",
       "                          + \"See the javascript console for the full traceback.</p>\"\n",
       "                          + '</div>');\n",
       "          throw error;\n",
       "      }\n",
       "      const el = document.getElementById('altair-viz');\n",
       "      vegaEmbed(\"#altair-viz\", spec, embedOpt)\n",
       "        .catch(error => showError(el, error));\n",
       "    })(vegaEmbed);\n",
       "\n",
       "  </script>\n",
       "</body>\n",
       "</html>"
      ],
      "text/plain": [
       "alt.VConcatChart(...)"
      ]
     },
     "execution_count": 101,
     "metadata": {
      "tags": []
     },
     "output_type": "execute_result"
    }
   ],
   "source": [
    "# TODO\n",
    "chart1=alt.Chart(vega_datasets.data.movies.url,\n",
    "                width=200,height=200).mark_bar().encode(\n",
    "    alt.X(\"IMDB_Rating:Q\",  bin=Bin(nice=True, maxbins=10)),\n",
    "    alt.Y('count()')\n",
    ")\n",
    "chart=alt.Chart(vega_datasets.data.movies.url,\n",
    "                width=200,height=200).mark_bar().encode(\n",
    "    alt.X(\"IMDB_Rating:Q\",  bin=Bin(nice=True, maxbins=50)),\n",
    "    alt.Y('count()')\n",
    ")\n",
    "chart3=alt.Chart(vega_datasets.data.movies.url,\n",
    "                width=200,height=200).mark_bar().encode(\n",
    "    alt.X(\"IMDB_Votes:Q\",  bin=Bin(nice=True, maxbins=10)),\n",
    "    alt.Y('count()')\n",
    ")\n",
    "chart4=alt.Chart(vega_datasets.data.movies.url,\n",
    "                width=290,height=200).mark_bar().encode(\n",
    "    alt.X(\"IMDB_Votes:Q\",  bin=Bin(nice=True, maxbins=50)),\n",
    "    alt.Y('count()')\n",
    ")\n",
    "chart5=alt.hconcat(chart1,chart2)\n",
    "chart6=alt.hconcat(chart3,chart4)\n",
    "chart7=alt.vconcat (chart5,chart6)\n",
    "chart7"
   ]
  }
 ],
 "metadata": {
  "anaconda-cloud": {},
  "colab": {
   "collapsed_sections": [],
   "name": "m08-lab-Hao_Hongtao.ipynb",
   "provenance": []
  },
  "kernel_info": {
   "name": "dviz"
  },
  "kernelspec": {
   "display_name": "dviz",
   "language": "python",
   "name": "dviz"
  },
  "language_info": {
   "codemirror_mode": {
    "name": "ipython",
    "version": 3
   },
   "file_extension": ".py",
   "mimetype": "text/x-python",
   "name": "python",
   "nbconvert_exporter": "python",
   "pygments_lexer": "ipython3",
   "version": "3.7.6"
  },
  "nteract": {
   "version": "0.15.0"
  },
  "toc": {
   "nav_menu": {},
   "number_sections": true,
   "sideBar": true,
   "skip_h1_title": false,
   "title_cell": "Table of Contents",
   "title_sidebar": "Contents",
   "toc_cell": false,
   "toc_position": {},
   "toc_section_display": true,
   "toc_window_display": false
  }
 },
 "nbformat": 4,
 "nbformat_minor": 1
}
